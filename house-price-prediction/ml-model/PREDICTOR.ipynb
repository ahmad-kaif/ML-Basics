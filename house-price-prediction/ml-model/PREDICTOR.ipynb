{
 "cells": [
  {
   "cell_type": "markdown",
   "id": "8ca56e2a-a5ad-4ef3-b413-2426dc4410a1",
   "metadata": {},
   "source": [
    "## Delhi House Price Predition"
   ]
  },
  {
   "cell_type": "code",
   "execution_count": 1,
   "id": "1037861c-07b8-493b-b469-cde5346d4b85",
   "metadata": {},
   "outputs": [],
   "source": [
    "import pandas as pd\n",
    "import numpy as np"
   ]
  },
  {
   "cell_type": "markdown",
   "id": "de83e0c3-3fcf-4c7b-b939-595674e8bdbf",
   "metadata": {},
   "source": [
    "### Load the data"
   ]
  },
  {
   "cell_type": "code",
   "execution_count": 3,
   "id": "7c1c31e4-ed54-48e3-8da7-d1c6e4156a0b",
   "metadata": {},
   "outputs": [],
   "source": [
    "data = pd.read_csv(\"Delhi_v2.csv\")"
   ]
  },
  {
   "cell_type": "markdown",
   "id": "fc6ed905-efff-4129-ad38-6ab3d8b23b34",
   "metadata": {},
   "source": [
    "### Data info"
   ]
  },
  {
   "cell_type": "code",
   "execution_count": 39,
   "id": "ec33cdbb-172a-4008-9c7a-45fc38dbf6ac",
   "metadata": {
    "collapsed": true,
    "jupyter": {
     "outputs_hidden": true
    },
    "scrolled": true
   },
   "outputs": [
    {
     "data": {
      "text/html": [
       "<div>\n",
       "<style scoped>\n",
       "    .dataframe tbody tr th:only-of-type {\n",
       "        vertical-align: middle;\n",
       "    }\n",
       "\n",
       "    .dataframe tbody tr th {\n",
       "        vertical-align: top;\n",
       "    }\n",
       "\n",
       "    .dataframe thead th {\n",
       "        text-align: right;\n",
       "    }\n",
       "</style>\n",
       "<table border=\"1\" class=\"dataframe\">\n",
       "  <thead>\n",
       "    <tr style=\"text-align: right;\">\n",
       "      <th></th>\n",
       "      <th>price</th>\n",
       "      <th>Address</th>\n",
       "      <th>area</th>\n",
       "      <th>latitude</th>\n",
       "      <th>longitude</th>\n",
       "      <th>Bedrooms</th>\n",
       "      <th>Bathrooms</th>\n",
       "      <th>Status</th>\n",
       "      <th>neworold</th>\n",
       "      <th>type_of_building</th>\n",
       "      <th>Price_sqft</th>\n",
       "    </tr>\n",
       "  </thead>\n",
       "  <tbody>\n",
       "    <tr>\n",
       "      <th>0</th>\n",
       "      <td>5600000.0</td>\n",
       "      <td>Noida Extension, Noida, Delhi NCR</td>\n",
       "      <td>1350.0</td>\n",
       "      <td>28.608850</td>\n",
       "      <td>77.460560</td>\n",
       "      <td>3.0</td>\n",
       "      <td>3.0</td>\n",
       "      <td>Under Construction</td>\n",
       "      <td>New Property</td>\n",
       "      <td>Flat</td>\n",
       "      <td>4148.148148</td>\n",
       "    </tr>\n",
       "    <tr>\n",
       "      <th>1</th>\n",
       "      <td>8800000.0</td>\n",
       "      <td>Sector 79, Gurgaon, Delhi NCR</td>\n",
       "      <td>1490.0</td>\n",
       "      <td>28.374236</td>\n",
       "      <td>76.952416</td>\n",
       "      <td>3.0</td>\n",
       "      <td>3.0</td>\n",
       "      <td>Ready to Move</td>\n",
       "      <td>New Property</td>\n",
       "      <td>Flat</td>\n",
       "      <td>5906.040268</td>\n",
       "    </tr>\n",
       "    <tr>\n",
       "      <th>2</th>\n",
       "      <td>16500000.0</td>\n",
       "      <td>Vaishali, Ghaziabad, Delhi NCR</td>\n",
       "      <td>2385.0</td>\n",
       "      <td>28.645769</td>\n",
       "      <td>77.385110</td>\n",
       "      <td>4.0</td>\n",
       "      <td>5.0</td>\n",
       "      <td>Ready to Move</td>\n",
       "      <td>New Property</td>\n",
       "      <td>Flat</td>\n",
       "      <td>6918.238994</td>\n",
       "    </tr>\n",
       "    <tr>\n",
       "      <th>3</th>\n",
       "      <td>3810000.0</td>\n",
       "      <td>Link Road, F Block, Sector 50, Noida, Uttar Pr...</td>\n",
       "      <td>1050.0</td>\n",
       "      <td>28.566914</td>\n",
       "      <td>77.436434</td>\n",
       "      <td>2.0</td>\n",
       "      <td>2.0</td>\n",
       "      <td>Ready to Move</td>\n",
       "      <td>New Property</td>\n",
       "      <td>Flat</td>\n",
       "      <td>3628.571429</td>\n",
       "    </tr>\n",
       "    <tr>\n",
       "      <th>4</th>\n",
       "      <td>6200000.0</td>\n",
       "      <td>Jaypee Pavilion Court Sector 128, Noida, Secto...</td>\n",
       "      <td>1350.0</td>\n",
       "      <td>28.520732</td>\n",
       "      <td>77.356491</td>\n",
       "      <td>2.0</td>\n",
       "      <td>2.0</td>\n",
       "      <td>Ready to Move</td>\n",
       "      <td>Resale</td>\n",
       "      <td>Flat</td>\n",
       "      <td>4592.592593</td>\n",
       "    </tr>\n",
       "  </tbody>\n",
       "</table>\n",
       "</div>"
      ],
      "text/plain": [
       "        price                                            Address    area  \\\n",
       "0   5600000.0                  Noida Extension, Noida, Delhi NCR  1350.0   \n",
       "1   8800000.0                      Sector 79, Gurgaon, Delhi NCR  1490.0   \n",
       "2  16500000.0                     Vaishali, Ghaziabad, Delhi NCR  2385.0   \n",
       "3   3810000.0  Link Road, F Block, Sector 50, Noida, Uttar Pr...  1050.0   \n",
       "4   6200000.0  Jaypee Pavilion Court Sector 128, Noida, Secto...  1350.0   \n",
       "\n",
       "    latitude  longitude  Bedrooms  Bathrooms              Status  \\\n",
       "0  28.608850  77.460560       3.0        3.0  Under Construction   \n",
       "1  28.374236  76.952416       3.0        3.0       Ready to Move   \n",
       "2  28.645769  77.385110       4.0        5.0       Ready to Move   \n",
       "3  28.566914  77.436434       2.0        2.0       Ready to Move   \n",
       "4  28.520732  77.356491       2.0        2.0       Ready to Move   \n",
       "\n",
       "       neworold type_of_building   Price_sqft  \n",
       "0  New Property             Flat  4148.148148  \n",
       "1  New Property             Flat  5906.040268  \n",
       "2  New Property             Flat  6918.238994  \n",
       "3  New Property             Flat  3628.571429  \n",
       "4        Resale             Flat  4592.592593  "
      ]
     },
     "execution_count": 39,
     "metadata": {},
     "output_type": "execute_result"
    }
   ],
   "source": [
    "data.head()"
   ]
  },
  {
   "cell_type": "code",
   "execution_count": 9,
   "id": "fe36c7ef-89d1-4cea-b1d5-ba0a81eb5560",
   "metadata": {},
   "outputs": [
    {
     "data": {
      "text/plain": [
       "(7738, 18)"
      ]
     },
     "execution_count": 9,
     "metadata": {},
     "output_type": "execute_result"
    }
   ],
   "source": [
    "data.shape"
   ]
  },
  {
   "cell_type": "code",
   "execution_count": 11,
   "id": "706d2ce6-c4c6-4abe-9884-a58381291c32",
   "metadata": {
    "collapsed": true,
    "jupyter": {
     "outputs_hidden": true
    }
   },
   "outputs": [
    {
     "name": "stdout",
     "output_type": "stream",
     "text": [
      "<class 'pandas.core.frame.DataFrame'>\n",
      "RangeIndex: 7738 entries, 0 to 7737\n",
      "Data columns (total 18 columns):\n",
      " #   Column            Non-Null Count  Dtype  \n",
      "---  ------            --------------  -----  \n",
      " 0   Unnamed: 0        7738 non-null   int64  \n",
      " 1   price             7738 non-null   float64\n",
      " 2   Address           7738 non-null   object \n",
      " 3   area              7738 non-null   float64\n",
      " 4   latitude          7738 non-null   float64\n",
      " 5   longitude         7738 non-null   float64\n",
      " 6   Bedrooms          7738 non-null   float64\n",
      " 7   Bathrooms         7738 non-null   float64\n",
      " 8   Balcony           5166 non-null   float64\n",
      " 9   Status            7164 non-null   object \n",
      " 10  neworold          7738 non-null   object \n",
      " 11  parking           2612 non-null   float64\n",
      " 12  Furnished_status  4124 non-null   object \n",
      " 13  Lift              1733 non-null   float64\n",
      " 14  Landmarks         2759 non-null   object \n",
      " 15  type_of_building  7738 non-null   object \n",
      " 16  desc              7738 non-null   object \n",
      " 17  Price_sqft        7738 non-null   float64\n",
      "dtypes: float64(10), int64(1), object(7)\n",
      "memory usage: 1.1+ MB\n"
     ]
    }
   ],
   "source": [
    "data.info()"
   ]
  },
  {
   "cell_type": "markdown",
   "id": "b3718db1-6df0-45d2-81eb-bbfe85935483",
   "metadata": {},
   "source": [
    "### Chekcing for missing values"
   ]
  },
  {
   "cell_type": "code",
   "execution_count": 37,
   "id": "6b95a55d-42bd-4b56-a60c-22641164e659",
   "metadata": {
    "collapsed": true,
    "jupyter": {
     "outputs_hidden": true
    }
   },
   "outputs": [
    {
     "name": "stdout",
     "output_type": "stream",
     "text": [
      "price               0\n",
      "Address             0\n",
      "area                0\n",
      "latitude            0\n",
      "longitude           0\n",
      "Bedrooms            0\n",
      "Bathrooms           0\n",
      "Status              0\n",
      "neworold            0\n",
      "type_of_building    0\n",
      "Price_sqft          0\n",
      "dtype: int64\n"
     ]
    }
   ],
   "source": [
    "print(data.isnull().sum())"
   ]
  },
  {
   "cell_type": "markdown",
   "id": "3fec1153-da01-4f19-814d-134410f94316",
   "metadata": {},
   "source": [
    "### Dropping irrelevant columns"
   ]
  },
  {
   "cell_type": "code",
   "execution_count": 15,
   "id": "02e12eda-128b-47b6-a458-7905d8e40bb0",
   "metadata": {},
   "outputs": [],
   "source": [
    "data.drop([\"Unnamed: 0\", \"desc\", \"Lift\", \"Landmarks\", \"parking\", \"Furnished_status\", \"Balcony\"], axis=1, inplace=True)\n"
   ]
  },
  {
   "cell_type": "code",
   "execution_count": 19,
   "id": "7e1679b0-4314-43fd-9f8c-01981b60086f",
   "metadata": {},
   "outputs": [
    {
     "data": {
      "text/plain": [
       "(7738, 11)"
      ]
     },
     "execution_count": 19,
     "metadata": {},
     "output_type": "execute_result"
    }
   ],
   "source": [
    "data.shape"
   ]
  },
  {
   "cell_type": "markdown",
   "id": "e177231d-ec21-4d09-98d5-920b0c0a2dee",
   "metadata": {},
   "source": [
    "### Handling Missing values in one column only -> Status"
   ]
  },
  {
   "cell_type": "code",
   "execution_count": 27,
   "id": "8f4dad40-938b-4eda-bf84-ef9d95a15071",
   "metadata": {},
   "outputs": [
    {
     "name": "stdout",
     "output_type": "stream",
     "text": [
      "['Under Construction' 'Ready to Move' nan]\n"
     ]
    }
   ],
   "source": [
    "print(data[\"Status\"].unique())\n",
    "\n"
   ]
  },
  {
   "cell_type": "code",
   "execution_count": 29,
   "id": "5dd8bd29-9089-4a78-b13d-4170e9d3948e",
   "metadata": {
    "collapsed": true,
    "jupyter": {
     "outputs_hidden": true
    }
   },
   "outputs": [
    {
     "name": "stdout",
     "output_type": "stream",
     "text": [
      "Status\n",
      "Ready to Move         7148\n",
      "Under Construction      16\n",
      "Name: count, dtype: int64\n"
     ]
    }
   ],
   "source": [
    "print(data[\"Status\"].value_counts())\n"
   ]
  },
  {
   "cell_type": "code",
   "execution_count": 35,
   "id": "c36c551f-a18e-484f-bb71-1680d76c56e8",
   "metadata": {},
   "outputs": [],
   "source": [
    "data[\"Status\"].fillna(\"Ready to Move\", inplace=True)\n"
   ]
  },
  {
   "cell_type": "markdown",
   "id": "d25c597d-44a0-4f8d-be4e-93269ecdae17",
   "metadata": {},
   "source": [
    "### Describing the data now"
   ]
  },
  {
   "cell_type": "code",
   "execution_count": 50,
   "id": "784a1913-3aa2-43fd-8b84-e50c43dfbd47",
   "metadata": {},
   "outputs": [
    {
     "data": {
      "text/html": [
       "<div>\n",
       "<style scoped>\n",
       "    .dataframe tbody tr th:only-of-type {\n",
       "        vertical-align: middle;\n",
       "    }\n",
       "\n",
       "    .dataframe tbody tr th {\n",
       "        vertical-align: top;\n",
       "    }\n",
       "\n",
       "    .dataframe thead th {\n",
       "        text-align: right;\n",
       "    }\n",
       "</style>\n",
       "<table border=\"1\" class=\"dataframe\">\n",
       "  <thead>\n",
       "    <tr style=\"text-align: right;\">\n",
       "      <th></th>\n",
       "      <th>price</th>\n",
       "      <th>area</th>\n",
       "      <th>latitude</th>\n",
       "      <th>longitude</th>\n",
       "      <th>Bedrooms</th>\n",
       "      <th>Bathrooms</th>\n",
       "      <th>Price_sqft</th>\n",
       "    </tr>\n",
       "  </thead>\n",
       "  <tbody>\n",
       "    <tr>\n",
       "      <th>count</th>\n",
       "      <td>7.738000e+03</td>\n",
       "      <td>7738.000000</td>\n",
       "      <td>7738.000000</td>\n",
       "      <td>7738.000000</td>\n",
       "      <td>7738.000000</td>\n",
       "      <td>7738.000000</td>\n",
       "      <td>7738.000000</td>\n",
       "    </tr>\n",
       "    <tr>\n",
       "      <th>mean</th>\n",
       "      <td>8.320635e+06</td>\n",
       "      <td>1409.506591</td>\n",
       "      <td>28.552092</td>\n",
       "      <td>77.273476</td>\n",
       "      <td>2.708193</td>\n",
       "      <td>2.501163</td>\n",
       "      <td>5543.660241</td>\n",
       "    </tr>\n",
       "    <tr>\n",
       "      <th>std</th>\n",
       "      <td>7.223197e+06</td>\n",
       "      <td>718.929581</td>\n",
       "      <td>0.107420</td>\n",
       "      <td>0.180606</td>\n",
       "      <td>0.877026</td>\n",
       "      <td>0.867050</td>\n",
       "      <td>2408.659307</td>\n",
       "    </tr>\n",
       "    <tr>\n",
       "      <th>min</th>\n",
       "      <td>1.700000e+06</td>\n",
       "      <td>501.000000</td>\n",
       "      <td>28.240023</td>\n",
       "      <td>76.884101</td>\n",
       "      <td>2.000000</td>\n",
       "      <td>2.000000</td>\n",
       "      <td>2100.000000</td>\n",
       "    </tr>\n",
       "    <tr>\n",
       "      <th>25%</th>\n",
       "      <td>4.200000e+06</td>\n",
       "      <td>990.000000</td>\n",
       "      <td>28.455539</td>\n",
       "      <td>77.078590</td>\n",
       "      <td>2.000000</td>\n",
       "      <td>2.000000</td>\n",
       "      <td>3950.986915</td>\n",
       "    </tr>\n",
       "    <tr>\n",
       "      <th>50%</th>\n",
       "      <td>6.000000e+06</td>\n",
       "      <td>1250.000000</td>\n",
       "      <td>28.574637</td>\n",
       "      <td>77.345320</td>\n",
       "      <td>3.000000</td>\n",
       "      <td>2.000000</td>\n",
       "      <td>4972.674332</td>\n",
       "    </tr>\n",
       "    <tr>\n",
       "      <th>75%</th>\n",
       "      <td>9.500000e+06</td>\n",
       "      <td>1650.000000</td>\n",
       "      <td>28.642520</td>\n",
       "      <td>77.421054</td>\n",
       "      <td>3.000000</td>\n",
       "      <td>3.000000</td>\n",
       "      <td>6350.638693</td>\n",
       "    </tr>\n",
       "    <tr>\n",
       "      <th>max</th>\n",
       "      <td>8.500000e+07</td>\n",
       "      <td>9500.000000</td>\n",
       "      <td>28.799748</td>\n",
       "      <td>77.688028</td>\n",
       "      <td>10.000000</td>\n",
       "      <td>10.000000</td>\n",
       "      <td>44378.698225</td>\n",
       "    </tr>\n",
       "  </tbody>\n",
       "</table>\n",
       "</div>"
      ],
      "text/plain": [
       "              price         area     latitude    longitude     Bedrooms  \\\n",
       "count  7.738000e+03  7738.000000  7738.000000  7738.000000  7738.000000   \n",
       "mean   8.320635e+06  1409.506591    28.552092    77.273476     2.708193   \n",
       "std    7.223197e+06   718.929581     0.107420     0.180606     0.877026   \n",
       "min    1.700000e+06   501.000000    28.240023    76.884101     2.000000   \n",
       "25%    4.200000e+06   990.000000    28.455539    77.078590     2.000000   \n",
       "50%    6.000000e+06  1250.000000    28.574637    77.345320     3.000000   \n",
       "75%    9.500000e+06  1650.000000    28.642520    77.421054     3.000000   \n",
       "max    8.500000e+07  9500.000000    28.799748    77.688028    10.000000   \n",
       "\n",
       "         Bathrooms    Price_sqft  \n",
       "count  7738.000000   7738.000000  \n",
       "mean      2.501163   5543.660241  \n",
       "std       0.867050   2408.659307  \n",
       "min       2.000000   2100.000000  \n",
       "25%       2.000000   3950.986915  \n",
       "50%       2.000000   4972.674332  \n",
       "75%       3.000000   6350.638693  \n",
       "max      10.000000  44378.698225  "
      ]
     },
     "execution_count": 50,
     "metadata": {},
     "output_type": "execute_result"
    }
   ],
   "source": [
    "data.describe()"
   ]
  },
  {
   "cell_type": "code",
   "execution_count": 60,
   "id": "84ba3d9d-cd1c-4bb0-96b6-44f4c27df1e0",
   "metadata": {},
   "outputs": [
    {
     "name": "stdout",
     "output_type": "stream",
     "text": [
      "0\n"
     ]
    }
   ],
   "source": [
    "print(data.duplicated().sum())  # Should be 0 ideally\n"
   ]
  },
  {
   "cell_type": "code",
   "execution_count": 58,
   "id": "555bb733-70ac-4b6e-b2bc-c5f5eeb12033",
   "metadata": {},
   "outputs": [],
   "source": [
    "data.drop_duplicates(inplace=True)\n"
   ]
  },
  {
   "cell_type": "code",
   "execution_count": 76,
   "id": "428b2125-19d1-46ee-8411-c66377733c00",
   "metadata": {},
   "outputs": [
    {
     "name": "stdout",
     "output_type": "stream",
     "text": [
      "price                                float64\n",
      "area                                 float64\n",
      "latitude                             float64\n",
      "longitude                            float64\n",
      "Bedrooms                             float64\n",
      "Bathrooms                            float64\n",
      "Status                                 int64\n",
      "neworold                               int64\n",
      "Price_sqft                           float64\n",
      "type_of_building_Individual House       bool\n",
      "dtype: object\n"
     ]
    }
   ],
   "source": [
    "print(data.dtypes)\n"
   ]
  },
  {
   "cell_type": "code",
   "execution_count": 64,
   "id": "fc94bbdd-eea0-4a02-b6d9-0bc3fcd71926",
   "metadata": {},
   "outputs": [],
   "source": [
    "data.drop(columns=[\"Address\"], inplace=True)\n"
   ]
  },
  {
   "cell_type": "markdown",
   "id": "eeb41cfb-3e03-4d8f-b127-760438068416",
   "metadata": {},
   "source": [
    "### Numerical Encoding (Label Encoding)\n",
    "#### column status and neworold-> converting them to numerical data"
   ]
  },
  {
   "cell_type": "code",
   "execution_count": 68,
   "id": "4910e3d9-1d8b-49bb-b65f-38fb14dace51",
   "metadata": {},
   "outputs": [],
   "source": [
    "from sklearn.preprocessing import LabelEncoder\n",
    "\n",
    "le = LabelEncoder()\n",
    "\n",
    "data[\"Status\"] = le.fit_transform(data[\"Status\"])  # Converts \"Ready to Move\" → 0, \"Under Construction\" → 1\n",
    "data[\"neworold\"] = le.fit_transform(data[\"neworold\"])  # Converts categories to 0/1\n"
   ]
  },
  {
   "cell_type": "markdown",
   "id": "6f09d1b7-cb25-4788-a4cd-106b05dff2c4",
   "metadata": {},
   "source": [
    "### converting type_of_building column \n",
    "#### Since type_of_building has multiple unique categories\n",
    "#### so we cannot use Label Encoding because it would treat \"Villa\" > \"Apartment\", which makes no sense.\n",
    "\n",
    "### 👉 Instead, we use One-Hot Encoding:"
   ]
  },
  {
   "cell_type": "code",
   "execution_count": 74,
   "id": "b940bf85-6a44-4169-8c67-e702c2028503",
   "metadata": {},
   "outputs": [],
   "source": [
    "data = pd.get_dummies(data, columns=[\"type_of_building\"], drop_first=True)\n"
   ]
  },
  {
   "cell_type": "code",
   "execution_count": 91,
   "id": "a9356cf6-7201-4903-81ea-ad1ef1140e4e",
   "metadata": {},
   "outputs": [
    {
     "name": "stdout",
     "output_type": "stream",
     "text": [
      "price                                float64\n",
      "area                                 float64\n",
      "latitude                             float64\n",
      "longitude                            float64\n",
      "Bedrooms                             float64\n",
      "Bathrooms                            float64\n",
      "Status                                 int64\n",
      "neworold                               int64\n",
      "Price_sqft                           float64\n",
      "type_of_building_Individual House      int64\n",
      "dtype: object\n"
     ]
    }
   ],
   "source": [
    "print(data.dtypes)\n"
   ]
  },
  {
   "cell_type": "code",
   "execution_count": 89,
   "id": "153ee8d6-b5d1-4741-ae72-f1e42f0b3b77",
   "metadata": {},
   "outputs": [],
   "source": [
    "data[\"type_of_building_Individual House\"] = data[\"type_of_building_Individual House\"].astype(int)\n"
   ]
  },
  {
   "cell_type": "markdown",
   "id": "609f6264-e582-4c4f-8f42-06efd342d4b7",
   "metadata": {},
   "source": [
    "## Split the data into training set and test set"
   ]
  },
  {
   "cell_type": "code",
   "execution_count": 94,
   "id": "232aeefa-2e80-4963-b3b6-98c67b4d304d",
   "metadata": {},
   "outputs": [
    {
     "name": "stdout",
     "output_type": "stream",
     "text": [
      "Training samples: 6151, Testing samples: 1538\n"
     ]
    }
   ],
   "source": [
    "from sklearn.model_selection import train_test_split\n",
    "\n",
    "# Define features (X) and target (y)\n",
    "X = data.drop(columns=[\"price\"])  # Drop 'price' since it's what we want to predict\n",
    "y = data[\"price\"]  # Target variable\n",
    "\n",
    "# Split into training (80%) and testing (20%)\n",
    "X_train, X_test, y_train, y_test = train_test_split(X, y, test_size=0.2, random_state=42)\n",
    "\n",
    "print(f\"Training samples: {len(X_train)}, Testing samples: {len(X_test)}\")\n"
   ]
  },
  {
   "cell_type": "markdown",
   "id": "812d4670-df2c-4fff-bec0-7d3de3663fb0",
   "metadata": {},
   "source": [
    "## Train the Machine Learning Model\n",
    "### Start with a simple model like Linear Regression:"
   ]
  },
  {
   "cell_type": "code",
   "execution_count": 98,
   "id": "959a6f46-96f7-4edc-8fa0-92c5c63bfc19",
   "metadata": {},
   "outputs": [],
   "source": [
    "from sklearn.linear_model import LinearRegression\n",
    "\n",
    "# Initialize model\n",
    "model = LinearRegression()\n",
    "\n",
    "# Train the model\n",
    "model.fit(X_train, y_train)\n",
    "\n",
    "# Make predictions\n",
    "y_pred = model.predict(X_test)\n"
   ]
  },
  {
   "cell_type": "code",
   "execution_count": 100,
   "id": "e455bef8-9ec1-496d-9d2b-19313907ea2e",
   "metadata": {},
   "outputs": [
    {
     "data": {
      "text/plain": [
       "array([4081097.55774014, 5502341.31381713,  581193.53965276, ...,\n",
       "       2230370.99095581, 5077401.78426568, 8414763.73177579])"
      ]
     },
     "execution_count": 100,
     "metadata": {},
     "output_type": "execute_result"
    }
   ],
   "source": [
    "y_pred"
   ]
  },
  {
   "cell_type": "code",
   "execution_count": 102,
   "id": "84194091-d860-48f8-9095-90909f557d3f",
   "metadata": {},
   "outputs": [
    {
     "name": "stdout",
     "output_type": "stream",
     "text": [
      "Mean Absolute Error: 1025821.40\n",
      "R² Score: 0.93\n"
     ]
    }
   ],
   "source": [
    "from sklearn.metrics import mean_absolute_error, r2_score\n",
    "\n",
    "# Evaluate performance\n",
    "mae = mean_absolute_error(y_test, y_pred)\n",
    "r2 = r2_score(y_test, y_pred)\n",
    "\n",
    "print(f\"Mean Absolute Error: {mae:.2f}\")\n",
    "print(f\"R² Score: {r2:.2f}\")\n",
    "\n"
   ]
  },
  {
   "cell_type": "markdown",
   "id": "8ffa7a82-eed4-4e26-834f-66fc1d7edf73",
   "metadata": {},
   "source": [
    "#### 🔥 My R² Score = 0.93, which means my model explains 93% of the variance in house prices.\n",
    "\n",
    "#### However, Mean Absolute Error (MAE) = ₹10,25,821, which means, on average, my predictions are off by ~10 lakh rupees. That could be improved. "
   ]
  },
  {
   "cell_type": "markdown",
   "id": "ab057665-7006-47f4-ac68-13c0f64d1aa5",
   "metadata": {},
   "source": [
    "### Feature Scaling (for models like Linear Regression)"
   ]
  },
  {
   "cell_type": "code",
   "execution_count": 107,
   "id": "8cf7fdf4-2b12-4a6d-a9e2-d43ddf0b7607",
   "metadata": {},
   "outputs": [],
   "source": [
    "from sklearn.preprocessing import StandardScaler\n",
    "\n",
    "scaler = StandardScaler()\n",
    "X_train_scaled = scaler.fit_transform(X_train)\n",
    "X_test_scaled = scaler.transform(X_test)\n"
   ]
  },
  {
   "cell_type": "code",
   "execution_count": 111,
   "id": "e1d5a0fa-26cc-44fb-937f-b4e9e5983b37",
   "metadata": {
    "jupyter": {
     "source_hidden": true
    }
   },
   "outputs": [
    {
     "name": "stdout",
     "output_type": "stream",
     "text": [
      "Mean Absolute Error (After Scaling): 1025821.40\n",
      "R² Score (After Scaling): 0.93\n"
     ]
    }
   ],
   "source": [
    "# Train the model again with scaled data\n",
    "model.fit(X_train_scaled, y_train)\n",
    "\n",
    "# Make predictions\n",
    "y_pred_scaled = model.predict(X_test_scaled)\n",
    "\n",
    "# Evaluate performance\n",
    "from sklearn.metrics import mean_absolute_error, r2_score\n",
    "\n",
    "mae_scaled = mean_absolute_error(y_test, y_pred_scaled)\n",
    "r2_scaled = r2_score(y_test, y_pred_scaled)\n",
    "\n",
    "print(f\"Mean Absolute Error (After Scaling): {mae_scaled:.2f}\")\n",
    "print(f\"R² Score (After Scaling): {r2_scaled:.2f}\")\n"
   ]
  },
  {
   "cell_type": "markdown",
   "id": "cbdcb07d-2e37-4aa3-8320-4ccd600f0be2",
   "metadata": {},
   "source": [
    "# 🔹 Save the Trained Model"
   ]
  },
  {
   "cell_type": "code",
   "execution_count": 114,
   "id": "fd762a18-326d-4407-a693-24b59f110772",
   "metadata": {},
   "outputs": [
    {
     "data": {
      "text/plain": [
       "['scaler.pkl']"
      ]
     },
     "execution_count": 114,
     "metadata": {},
     "output_type": "execute_result"
    }
   ],
   "source": [
    "import joblib\n",
    "\n",
    "# Save the trained model\n",
    "joblib.dump(model, \"house_price_model.pkl\")\n",
    "\n",
    "# Save the scaler too (if used)\n",
    "joblib.dump(scaler, \"scaler.pkl\")\n"
   ]
  },
  {
   "cell_type": "markdown",
   "id": "1d0aea13-8c18-46d5-98d7-32a056fc40ff",
   "metadata": {},
   "source": [
    "# 🔹 Create a Python API (Flask or FastAPI)"
   ]
  },
  {
   "cell_type": "code",
   "execution_count": 117,
   "id": "9446ea80-1cd3-4afa-b2a8-f3ba222d462f",
   "metadata": {},
   "outputs": [
    {
     "name": "stdout",
     "output_type": "stream",
     "text": [
      "Requirement already satisfied: flask in /opt/anaconda3/lib/python3.12/site-packages (3.0.3)\n",
      "Requirement already satisfied: joblib in /opt/anaconda3/lib/python3.12/site-packages (1.4.2)\n",
      "Requirement already satisfied: pandas in /opt/anaconda3/lib/python3.12/site-packages (2.2.2)\n",
      "Requirement already satisfied: numpy in /opt/anaconda3/lib/python3.12/site-packages (1.26.4)\n",
      "Requirement already satisfied: Werkzeug>=3.0.0 in /opt/anaconda3/lib/python3.12/site-packages (from flask) (3.0.3)\n",
      "Requirement already satisfied: Jinja2>=3.1.2 in /opt/anaconda3/lib/python3.12/site-packages (from flask) (3.1.4)\n",
      "Requirement already satisfied: itsdangerous>=2.1.2 in /opt/anaconda3/lib/python3.12/site-packages (from flask) (2.2.0)\n",
      "Requirement already satisfied: click>=8.1.3 in /opt/anaconda3/lib/python3.12/site-packages (from flask) (8.1.7)\n",
      "Requirement already satisfied: blinker>=1.6.2 in /opt/anaconda3/lib/python3.12/site-packages (from flask) (1.6.2)\n",
      "Requirement already satisfied: python-dateutil>=2.8.2 in /opt/anaconda3/lib/python3.12/site-packages (from pandas) (2.9.0.post0)\n",
      "Requirement already satisfied: pytz>=2020.1 in /opt/anaconda3/lib/python3.12/site-packages (from pandas) (2024.1)\n",
      "Requirement already satisfied: tzdata>=2022.7 in /opt/anaconda3/lib/python3.12/site-packages (from pandas) (2023.3)\n",
      "Requirement already satisfied: MarkupSafe>=2.0 in /opt/anaconda3/lib/python3.12/site-packages (from Jinja2>=3.1.2->flask) (2.1.3)\n",
      "Requirement already satisfied: six>=1.5 in /opt/anaconda3/lib/python3.12/site-packages (from python-dateutil>=2.8.2->pandas) (1.16.0)\n",
      "Note: you may need to restart the kernel to use updated packages.\n"
     ]
    }
   ],
   "source": [
    "pip install flask joblib pandas numpy\n"
   ]
  },
  {
   "cell_type": "code",
   "execution_count": null,
   "id": "dcb642ec-30dd-44e7-80ea-7181dd81f463",
   "metadata": {},
   "outputs": [],
   "source": []
  }
 ],
 "metadata": {
  "kernelspec": {
   "display_name": "Python [conda env:base] *",
   "language": "python",
   "name": "conda-base-py"
  },
  "language_info": {
   "codemirror_mode": {
    "name": "ipython",
    "version": 3
   },
   "file_extension": ".py",
   "mimetype": "text/x-python",
   "name": "python",
   "nbconvert_exporter": "python",
   "pygments_lexer": "ipython3",
   "version": "3.12.7"
  }
 },
 "nbformat": 4,
 "nbformat_minor": 5
}
