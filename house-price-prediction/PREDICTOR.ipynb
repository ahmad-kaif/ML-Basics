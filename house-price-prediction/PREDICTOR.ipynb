{
 "cells": [
  {
   "cell_type": "markdown",
   "id": "8ca56e2a-a5ad-4ef3-b413-2426dc4410a1",
   "metadata": {},
   "source": [
    "## Delhi House Price Predition"
   ]
  },
  {
   "cell_type": "code",
   "execution_count": 1,
   "id": "1037861c-07b8-493b-b469-cde5346d4b85",
   "metadata": {},
   "outputs": [],
   "source": [
    "import pandas as pd\n",
    "import numpy as np"
   ]
  },
  {
   "cell_type": "markdown",
   "id": "de83e0c3-3fcf-4c7b-b939-595674e8bdbf",
   "metadata": {},
   "source": [
    "### Load the data"
   ]
  },
  {
   "cell_type": "code",
   "execution_count": 3,
   "id": "7c1c31e4-ed54-48e3-8da7-d1c6e4156a0b",
   "metadata": {},
   "outputs": [],
   "source": [
    "data = pd.read_csv(\"Delhi_v2.csv\")"
   ]
  },
  {
   "cell_type": "markdown",
   "id": "fc6ed905-efff-4129-ad38-6ab3d8b23b34",
   "metadata": {},
   "source": [
    "### Data info"
   ]
  },
  {
   "cell_type": "code",
   "execution_count": 127,
   "id": "ec33cdbb-172a-4008-9c7a-45fc38dbf6ac",
   "metadata": {
    "scrolled": true
   },
   "outputs": [
    {
     "data": {
      "text/html": [
       "<div>\n",
       "<style scoped>\n",
       "    .dataframe tbody tr th:only-of-type {\n",
       "        vertical-align: middle;\n",
       "    }\n",
       "\n",
       "    .dataframe tbody tr th {\n",
       "        vertical-align: top;\n",
       "    }\n",
       "\n",
       "    .dataframe thead th {\n",
       "        text-align: right;\n",
       "    }\n",
       "</style>\n",
       "<table border=\"1\" class=\"dataframe\">\n",
       "  <thead>\n",
       "    <tr style=\"text-align: right;\">\n",
       "      <th></th>\n",
       "      <th>price</th>\n",
       "      <th>area</th>\n",
       "      <th>latitude</th>\n",
       "      <th>longitude</th>\n",
       "      <th>Bedrooms</th>\n",
       "      <th>Bathrooms</th>\n",
       "      <th>Status</th>\n",
       "      <th>neworold</th>\n",
       "      <th>Price_sqft</th>\n",
       "      <th>type_of_building_Individual House</th>\n",
       "    </tr>\n",
       "  </thead>\n",
       "  <tbody>\n",
       "    <tr>\n",
       "      <th>0</th>\n",
       "      <td>5600000.0</td>\n",
       "      <td>1350.0</td>\n",
       "      <td>28.608850</td>\n",
       "      <td>77.460560</td>\n",
       "      <td>3.0</td>\n",
       "      <td>3.0</td>\n",
       "      <td>1</td>\n",
       "      <td>0</td>\n",
       "      <td>4148.148148</td>\n",
       "      <td>0</td>\n",
       "    </tr>\n",
       "    <tr>\n",
       "      <th>1</th>\n",
       "      <td>8800000.0</td>\n",
       "      <td>1490.0</td>\n",
       "      <td>28.374236</td>\n",
       "      <td>76.952416</td>\n",
       "      <td>3.0</td>\n",
       "      <td>3.0</td>\n",
       "      <td>0</td>\n",
       "      <td>0</td>\n",
       "      <td>5906.040268</td>\n",
       "      <td>0</td>\n",
       "    </tr>\n",
       "    <tr>\n",
       "      <th>2</th>\n",
       "      <td>16500000.0</td>\n",
       "      <td>2385.0</td>\n",
       "      <td>28.645769</td>\n",
       "      <td>77.385110</td>\n",
       "      <td>4.0</td>\n",
       "      <td>5.0</td>\n",
       "      <td>0</td>\n",
       "      <td>0</td>\n",
       "      <td>6918.238994</td>\n",
       "      <td>0</td>\n",
       "    </tr>\n",
       "    <tr>\n",
       "      <th>3</th>\n",
       "      <td>3810000.0</td>\n",
       "      <td>1050.0</td>\n",
       "      <td>28.566914</td>\n",
       "      <td>77.436434</td>\n",
       "      <td>2.0</td>\n",
       "      <td>2.0</td>\n",
       "      <td>0</td>\n",
       "      <td>0</td>\n",
       "      <td>3628.571429</td>\n",
       "      <td>0</td>\n",
       "    </tr>\n",
       "    <tr>\n",
       "      <th>4</th>\n",
       "      <td>6200000.0</td>\n",
       "      <td>1350.0</td>\n",
       "      <td>28.520732</td>\n",
       "      <td>77.356491</td>\n",
       "      <td>2.0</td>\n",
       "      <td>2.0</td>\n",
       "      <td>0</td>\n",
       "      <td>1</td>\n",
       "      <td>4592.592593</td>\n",
       "      <td>0</td>\n",
       "    </tr>\n",
       "  </tbody>\n",
       "</table>\n",
       "</div>"
      ],
      "text/plain": [
       "        price    area   latitude  longitude  Bedrooms  Bathrooms  Status  \\\n",
       "0   5600000.0  1350.0  28.608850  77.460560       3.0        3.0       1   \n",
       "1   8800000.0  1490.0  28.374236  76.952416       3.0        3.0       0   \n",
       "2  16500000.0  2385.0  28.645769  77.385110       4.0        5.0       0   \n",
       "3   3810000.0  1050.0  28.566914  77.436434       2.0        2.0       0   \n",
       "4   6200000.0  1350.0  28.520732  77.356491       2.0        2.0       0   \n",
       "\n",
       "   neworold   Price_sqft  type_of_building_Individual House  \n",
       "0         0  4148.148148                                  0  \n",
       "1         0  5906.040268                                  0  \n",
       "2         0  6918.238994                                  0  \n",
       "3         0  3628.571429                                  0  \n",
       "4         1  4592.592593                                  0  "
      ]
     },
     "execution_count": 127,
     "metadata": {},
     "output_type": "execute_result"
    }
   ],
   "source": [
    "data.head()\n"
   ]
  },
  {
   "cell_type": "code",
   "execution_count": 123,
   "id": "fe36c7ef-89d1-4cea-b1d5-ba0a81eb5560",
   "metadata": {},
   "outputs": [
    {
     "data": {
      "text/plain": [
       "(7689, 10)"
      ]
     },
     "execution_count": 123,
     "metadata": {},
     "output_type": "execute_result"
    }
   ],
   "source": [
    "data.shape"
   ]
  },
  {
   "cell_type": "code",
   "execution_count": 125,
   "id": "706d2ce6-c4c6-4abe-9884-a58381291c32",
   "metadata": {},
   "outputs": [
    {
     "name": "stdout",
     "output_type": "stream",
     "text": [
      "<class 'pandas.core.frame.DataFrame'>\n",
      "Index: 7689 entries, 0 to 7737\n",
      "Data columns (total 10 columns):\n",
      " #   Column                             Non-Null Count  Dtype  \n",
      "---  ------                             --------------  -----  \n",
      " 0   price                              7689 non-null   float64\n",
      " 1   area                               7689 non-null   float64\n",
      " 2   latitude                           7689 non-null   float64\n",
      " 3   longitude                          7689 non-null   float64\n",
      " 4   Bedrooms                           7689 non-null   float64\n",
      " 5   Bathrooms                          7689 non-null   float64\n",
      " 6   Status                             7689 non-null   int64  \n",
      " 7   neworold                           7689 non-null   int64  \n",
      " 8   Price_sqft                         7689 non-null   float64\n",
      " 9   type_of_building_Individual House  7689 non-null   int64  \n",
      "dtypes: float64(7), int64(3)\n",
      "memory usage: 660.8 KB\n"
     ]
    }
   ],
   "source": [
    "data.info()"
   ]
  },
  {
   "cell_type": "markdown",
   "id": "b3718db1-6df0-45d2-81eb-bbfe85935483",
   "metadata": {},
   "source": [
    "### Chekcing for missing values"
   ]
  },
  {
   "cell_type": "code",
   "execution_count": 37,
   "id": "6b95a55d-42bd-4b56-a60c-22641164e659",
   "metadata": {
    "collapsed": true,
    "jupyter": {
     "outputs_hidden": true
    }
   },
   "outputs": [
    {
     "name": "stdout",
     "output_type": "stream",
     "text": [
      "price               0\n",
      "Address             0\n",
      "area                0\n",
      "latitude            0\n",
      "longitude           0\n",
      "Bedrooms            0\n",
      "Bathrooms           0\n",
      "Status              0\n",
      "neworold            0\n",
      "type_of_building    0\n",
      "Price_sqft          0\n",
      "dtype: int64\n"
     ]
    }
   ],
   "source": [
    "print(data.isnull().sum())"
   ]
  },
  {
   "cell_type": "markdown",
   "id": "3fec1153-da01-4f19-814d-134410f94316",
   "metadata": {},
   "source": [
    "### Dropping irrelevant columns"
   ]
  },
  {
   "cell_type": "code",
   "execution_count": 15,
   "id": "02e12eda-128b-47b6-a458-7905d8e40bb0",
   "metadata": {},
   "outputs": [],
   "source": [
    "data.drop([\"Unnamed: 0\", \"desc\", \"Lift\", \"Landmarks\", \"parking\", \"Furnished_status\", \"Balcony\"], axis=1, inplace=True)\n"
   ]
  },
  {
   "cell_type": "code",
   "execution_count": 19,
   "id": "7e1679b0-4314-43fd-9f8c-01981b60086f",
   "metadata": {},
   "outputs": [
    {
     "data": {
      "text/plain": [
       "(7738, 11)"
      ]
     },
     "execution_count": 19,
     "metadata": {},
     "output_type": "execute_result"
    }
   ],
   "source": [
    "data.shape"
   ]
  },
  {
   "cell_type": "markdown",
   "id": "e177231d-ec21-4d09-98d5-920b0c0a2dee",
   "metadata": {},
   "source": [
    "### Handling Missing values in one column only -> Status"
   ]
  },
  {
   "cell_type": "code",
   "execution_count": 27,
   "id": "8f4dad40-938b-4eda-bf84-ef9d95a15071",
   "metadata": {},
   "outputs": [
    {
     "name": "stdout",
     "output_type": "stream",
     "text": [
      "['Under Construction' 'Ready to Move' nan]\n"
     ]
    }
   ],
   "source": [
    "print(data[\"Status\"].unique())\n",
    "\n"
   ]
  },
  {
   "cell_type": "code",
   "execution_count": 29,
   "id": "5dd8bd29-9089-4a78-b13d-4170e9d3948e",
   "metadata": {
    "collapsed": true,
    "jupyter": {
     "outputs_hidden": true
    }
   },
   "outputs": [
    {
     "name": "stdout",
     "output_type": "stream",
     "text": [
      "Status\n",
      "Ready to Move         7148\n",
      "Under Construction      16\n",
      "Name: count, dtype: int64\n"
     ]
    }
   ],
   "source": [
    "print(data[\"Status\"].value_counts())\n"
   ]
  },
  {
   "cell_type": "code",
   "execution_count": 35,
   "id": "c36c551f-a18e-484f-bb71-1680d76c56e8",
   "metadata": {},
   "outputs": [],
   "source": [
    "data[\"Status\"].fillna(\"Ready to Move\", inplace=True)\n"
   ]
  },
  {
   "cell_type": "markdown",
   "id": "d25c597d-44a0-4f8d-be4e-93269ecdae17",
   "metadata": {},
   "source": [
    "### Describing the data now"
   ]
  },
  {
   "cell_type": "code",
   "execution_count": 135,
   "id": "784a1913-3aa2-43fd-8b84-e50c43dfbd47",
   "metadata": {},
   "outputs": [
    {
     "data": {
      "text/html": [
       "<div>\n",
       "<style scoped>\n",
       "    .dataframe tbody tr th:only-of-type {\n",
       "        vertical-align: middle;\n",
       "    }\n",
       "\n",
       "    .dataframe tbody tr th {\n",
       "        vertical-align: top;\n",
       "    }\n",
       "\n",
       "    .dataframe thead th {\n",
       "        text-align: right;\n",
       "    }\n",
       "</style>\n",
       "<table border=\"1\" class=\"dataframe\">\n",
       "  <thead>\n",
       "    <tr style=\"text-align: right;\">\n",
       "      <th></th>\n",
       "      <th>price</th>\n",
       "      <th>area</th>\n",
       "      <th>latitude</th>\n",
       "      <th>longitude</th>\n",
       "      <th>Bedrooms</th>\n",
       "      <th>Bathrooms</th>\n",
       "      <th>Status</th>\n",
       "      <th>neworold</th>\n",
       "      <th>Price_sqft</th>\n",
       "      <th>type_of_building_Individual House</th>\n",
       "    </tr>\n",
       "  </thead>\n",
       "  <tbody>\n",
       "    <tr>\n",
       "      <th>count</th>\n",
       "      <td>7.689000e+03</td>\n",
       "      <td>7689.000000</td>\n",
       "      <td>7689.000000</td>\n",
       "      <td>7689.000000</td>\n",
       "      <td>7689.000000</td>\n",
       "      <td>7689.000000</td>\n",
       "      <td>7689.000000</td>\n",
       "      <td>7689.000000</td>\n",
       "      <td>7689.000000</td>\n",
       "      <td>7689.000000</td>\n",
       "    </tr>\n",
       "    <tr>\n",
       "      <th>mean</th>\n",
       "      <td>8.339062e+06</td>\n",
       "      <td>1411.493432</td>\n",
       "      <td>28.551939</td>\n",
       "      <td>77.273031</td>\n",
       "      <td>2.711146</td>\n",
       "      <td>2.503577</td>\n",
       "      <td>0.002081</td>\n",
       "      <td>0.891663</td>\n",
       "      <td>5548.857978</td>\n",
       "      <td>0.196645</td>\n",
       "    </tr>\n",
       "    <tr>\n",
       "      <th>std</th>\n",
       "      <td>7.234203e+06</td>\n",
       "      <td>720.126904</td>\n",
       "      <td>0.107413</td>\n",
       "      <td>0.180645</td>\n",
       "      <td>0.878363</td>\n",
       "      <td>0.868886</td>\n",
       "      <td>0.045572</td>\n",
       "      <td>0.310825</td>\n",
       "      <td>2412.071289</td>\n",
       "      <td>0.397487</td>\n",
       "    </tr>\n",
       "    <tr>\n",
       "      <th>min</th>\n",
       "      <td>1.700000e+06</td>\n",
       "      <td>501.000000</td>\n",
       "      <td>28.240023</td>\n",
       "      <td>76.884101</td>\n",
       "      <td>2.000000</td>\n",
       "      <td>2.000000</td>\n",
       "      <td>0.000000</td>\n",
       "      <td>0.000000</td>\n",
       "      <td>2100.000000</td>\n",
       "      <td>0.000000</td>\n",
       "    </tr>\n",
       "    <tr>\n",
       "      <th>25%</th>\n",
       "      <td>4.200000e+06</td>\n",
       "      <td>990.000000</td>\n",
       "      <td>28.455376</td>\n",
       "      <td>77.078564</td>\n",
       "      <td>2.000000</td>\n",
       "      <td>2.000000</td>\n",
       "      <td>0.000000</td>\n",
       "      <td>1.000000</td>\n",
       "      <td>3952.569170</td>\n",
       "      <td>0.000000</td>\n",
       "    </tr>\n",
       "    <tr>\n",
       "      <th>50%</th>\n",
       "      <td>6.000000e+06</td>\n",
       "      <td>1250.000000</td>\n",
       "      <td>28.574637</td>\n",
       "      <td>77.344698</td>\n",
       "      <td>3.000000</td>\n",
       "      <td>2.000000</td>\n",
       "      <td>0.000000</td>\n",
       "      <td>1.000000</td>\n",
       "      <td>4978.877489</td>\n",
       "      <td>0.000000</td>\n",
       "    </tr>\n",
       "    <tr>\n",
       "      <th>75%</th>\n",
       "      <td>9.500000e+06</td>\n",
       "      <td>1650.000000</td>\n",
       "      <td>28.642231</td>\n",
       "      <td>77.421054</td>\n",
       "      <td>3.000000</td>\n",
       "      <td>3.000000</td>\n",
       "      <td>0.000000</td>\n",
       "      <td>1.000000</td>\n",
       "      <td>6363.636364</td>\n",
       "      <td>0.000000</td>\n",
       "    </tr>\n",
       "    <tr>\n",
       "      <th>max</th>\n",
       "      <td>8.500000e+07</td>\n",
       "      <td>9500.000000</td>\n",
       "      <td>28.799748</td>\n",
       "      <td>77.688028</td>\n",
       "      <td>10.000000</td>\n",
       "      <td>10.000000</td>\n",
       "      <td>1.000000</td>\n",
       "      <td>1.000000</td>\n",
       "      <td>44378.698225</td>\n",
       "      <td>1.000000</td>\n",
       "    </tr>\n",
       "  </tbody>\n",
       "</table>\n",
       "</div>"
      ],
      "text/plain": [
       "              price         area     latitude    longitude     Bedrooms  \\\n",
       "count  7.689000e+03  7689.000000  7689.000000  7689.000000  7689.000000   \n",
       "mean   8.339062e+06  1411.493432    28.551939    77.273031     2.711146   \n",
       "std    7.234203e+06   720.126904     0.107413     0.180645     0.878363   \n",
       "min    1.700000e+06   501.000000    28.240023    76.884101     2.000000   \n",
       "25%    4.200000e+06   990.000000    28.455376    77.078564     2.000000   \n",
       "50%    6.000000e+06  1250.000000    28.574637    77.344698     3.000000   \n",
       "75%    9.500000e+06  1650.000000    28.642231    77.421054     3.000000   \n",
       "max    8.500000e+07  9500.000000    28.799748    77.688028    10.000000   \n",
       "\n",
       "         Bathrooms       Status     neworold    Price_sqft  \\\n",
       "count  7689.000000  7689.000000  7689.000000   7689.000000   \n",
       "mean      2.503577     0.002081     0.891663   5548.857978   \n",
       "std       0.868886     0.045572     0.310825   2412.071289   \n",
       "min       2.000000     0.000000     0.000000   2100.000000   \n",
       "25%       2.000000     0.000000     1.000000   3952.569170   \n",
       "50%       2.000000     0.000000     1.000000   4978.877489   \n",
       "75%       3.000000     0.000000     1.000000   6363.636364   \n",
       "max      10.000000     1.000000     1.000000  44378.698225   \n",
       "\n",
       "       type_of_building_Individual House  \n",
       "count                        7689.000000  \n",
       "mean                            0.196645  \n",
       "std                             0.397487  \n",
       "min                             0.000000  \n",
       "25%                             0.000000  \n",
       "50%                             0.000000  \n",
       "75%                             0.000000  \n",
       "max                             1.000000  "
      ]
     },
     "execution_count": 135,
     "metadata": {},
     "output_type": "execute_result"
    }
   ],
   "source": [
    "data.describe()"
   ]
  },
  {
   "cell_type": "code",
   "execution_count": 60,
   "id": "84ba3d9d-cd1c-4bb0-96b6-44f4c27df1e0",
   "metadata": {},
   "outputs": [
    {
     "name": "stdout",
     "output_type": "stream",
     "text": [
      "0\n"
     ]
    }
   ],
   "source": [
    "print(data.duplicated().sum())  # Should be 0 ideally\n"
   ]
  },
  {
   "cell_type": "code",
   "execution_count": 58,
   "id": "555bb733-70ac-4b6e-b2bc-c5f5eeb12033",
   "metadata": {},
   "outputs": [],
   "source": [
    "data.drop_duplicates(inplace=True)\n"
   ]
  },
  {
   "cell_type": "code",
   "execution_count": 76,
   "id": "428b2125-19d1-46ee-8411-c66377733c00",
   "metadata": {},
   "outputs": [
    {
     "name": "stdout",
     "output_type": "stream",
     "text": [
      "price                                float64\n",
      "area                                 float64\n",
      "latitude                             float64\n",
      "longitude                            float64\n",
      "Bedrooms                             float64\n",
      "Bathrooms                            float64\n",
      "Status                                 int64\n",
      "neworold                               int64\n",
      "Price_sqft                           float64\n",
      "type_of_building_Individual House       bool\n",
      "dtype: object\n"
     ]
    }
   ],
   "source": [
    "print(data.dtypes)\n"
   ]
  },
  {
   "cell_type": "code",
   "execution_count": 64,
   "id": "fc94bbdd-eea0-4a02-b6d9-0bc3fcd71926",
   "metadata": {},
   "outputs": [],
   "source": [
    "data.drop(columns=[\"Address\"], inplace=True)\n"
   ]
  },
  {
   "cell_type": "markdown",
   "id": "eeb41cfb-3e03-4d8f-b127-760438068416",
   "metadata": {},
   "source": [
    "### Numerical Encoding (Label Encoding)\n",
    "#### column status and neworold-> converting them to numerical data"
   ]
  },
  {
   "cell_type": "code",
   "execution_count": 68,
   "id": "4910e3d9-1d8b-49bb-b65f-38fb14dace51",
   "metadata": {},
   "outputs": [],
   "source": [
    "from sklearn.preprocessing import LabelEncoder\n",
    "\n",
    "le = LabelEncoder()\n",
    "\n",
    "data[\"Status\"] = le.fit_transform(data[\"Status\"])  # Converts \"Ready to Move\" → 0, \"Under Construction\" → 1\n",
    "data[\"neworold\"] = le.fit_transform(data[\"neworold\"])  # Converts categories to 0/1\n"
   ]
  },
  {
   "cell_type": "markdown",
   "id": "6f09d1b7-cb25-4788-a4cd-106b05dff2c4",
   "metadata": {},
   "source": [
    "### converting type_of_building column \n",
    "#### Since type_of_building has multiple unique categories\n",
    "#### so we cannot use Label Encoding because it would treat \"Villa\" > \"Apartment\", which makes no sense.\n",
    "\n",
    "### 👉 Instead, we use One-Hot Encoding:"
   ]
  },
  {
   "cell_type": "code",
   "execution_count": 74,
   "id": "b940bf85-6a44-4169-8c67-e702c2028503",
   "metadata": {},
   "outputs": [],
   "source": [
    "data = pd.get_dummies(data, columns=[\"type_of_building\"], drop_first=True)\n"
   ]
  },
  {
   "cell_type": "code",
   "execution_count": 121,
   "id": "a9356cf6-7201-4903-81ea-ad1ef1140e4e",
   "metadata": {},
   "outputs": [
    {
     "name": "stdout",
     "output_type": "stream",
     "text": [
      "price                                float64\n",
      "area                                 float64\n",
      "latitude                             float64\n",
      "longitude                            float64\n",
      "Bedrooms                             float64\n",
      "Bathrooms                            float64\n",
      "Status                                 int64\n",
      "neworold                               int64\n",
      "Price_sqft                           float64\n",
      "type_of_building_Individual House      int64\n",
      "dtype: object\n"
     ]
    }
   ],
   "source": [
    "print(data.dtypes)\n"
   ]
  },
  {
   "cell_type": "code",
   "execution_count": 89,
   "id": "153ee8d6-b5d1-4741-ae72-f1e42f0b3b77",
   "metadata": {},
   "outputs": [],
   "source": [
    "data[\"type_of_building_Individual House\"] = data[\"type_of_building_Individual House\"].astype(int)\n"
   ]
  },
  {
   "cell_type": "markdown",
   "id": "609f6264-e582-4c4f-8f42-06efd342d4b7",
   "metadata": {},
   "source": [
    "## Split the data into training set and test set"
   ]
  },
  {
   "cell_type": "code",
   "execution_count": 94,
   "id": "232aeefa-2e80-4963-b3b6-98c67b4d304d",
   "metadata": {},
   "outputs": [
    {
     "name": "stdout",
     "output_type": "stream",
     "text": [
      "Training samples: 6151, Testing samples: 1538\n"
     ]
    }
   ],
   "source": [
    "from sklearn.model_selection import train_test_split\n",
    "\n",
    "# Define features (X) and target (y)\n",
    "X = data.drop(columns=[\"price\"])  # Drop 'price' since it's what we want to predict\n",
    "y = data[\"price\"]  # Target variable\n",
    "\n",
    "# Split into training (80%) and testing (20%)\n",
    "X_train, X_test, y_train, y_test = train_test_split(X, y, test_size=0.2, random_state=42)\n",
    "\n",
    "print(f\"Training samples: {len(X_train)}, Testing samples: {len(X_test)}\")\n"
   ]
  },
  {
   "cell_type": "markdown",
   "id": "812d4670-df2c-4fff-bec0-7d3de3663fb0",
   "metadata": {},
   "source": [
    "## Train the Machine Learning Model\n",
    "### Start with a simple model like Linear Regression:"
   ]
  },
  {
   "cell_type": "code",
   "execution_count": 98,
   "id": "959a6f46-96f7-4edc-8fa0-92c5c63bfc19",
   "metadata": {},
   "outputs": [],
   "source": [
    "from sklearn.linear_model import LinearRegression\n",
    "\n",
    "# Initialize model\n",
    "model = LinearRegression()\n",
    "\n",
    "# Train the model\n",
    "model.fit(X_train, y_train)\n",
    "\n",
    "# Make predictions\n",
    "y_pred = model.predict(X_test)\n"
   ]
  },
  {
   "cell_type": "code",
   "execution_count": 100,
   "id": "e455bef8-9ec1-496d-9d2b-19313907ea2e",
   "metadata": {},
   "outputs": [
    {
     "data": {
      "text/plain": [
       "array([4081097.55774014, 5502341.31381713,  581193.53965276, ...,\n",
       "       2230370.99095581, 5077401.78426568, 8414763.73177579])"
      ]
     },
     "execution_count": 100,
     "metadata": {},
     "output_type": "execute_result"
    }
   ],
   "source": [
    "y_pred"
   ]
  },
  {
   "cell_type": "code",
   "execution_count": 102,
   "id": "84194091-d860-48f8-9095-90909f557d3f",
   "metadata": {},
   "outputs": [
    {
     "name": "stdout",
     "output_type": "stream",
     "text": [
      "Mean Absolute Error: 1025821.40\n",
      "R² Score: 0.93\n"
     ]
    }
   ],
   "source": [
    "from sklearn.metrics import mean_absolute_error, r2_score\n",
    "\n",
    "# Evaluate performance\n",
    "mae = mean_absolute_error(y_test, y_pred)\n",
    "r2 = r2_score(y_test, y_pred)\n",
    "\n",
    "print(f\"Mean Absolute Error: {mae:.2f}\")\n",
    "print(f\"R² Score: {r2:.2f}\")\n",
    "\n"
   ]
  },
  {
   "cell_type": "markdown",
   "id": "8ffa7a82-eed4-4e26-834f-66fc1d7edf73",
   "metadata": {},
   "source": [
    "#### 🔥 My R² Score = 0.93, which means my model explains 93% of the variance in house prices.\n",
    "\n",
    "#### However, Mean Absolute Error (MAE) = ₹10,25,821, which means, on average, my predictions are off by ~10 lakh rupees. That could be improved. "
   ]
  },
  {
   "cell_type": "markdown",
   "id": "ab057665-7006-47f4-ac68-13c0f64d1aa5",
   "metadata": {},
   "source": [
    "### Feature Scaling (for models like Linear Regression)"
   ]
  },
  {
   "cell_type": "code",
   "execution_count": 107,
   "id": "8cf7fdf4-2b12-4a6d-a9e2-d43ddf0b7607",
   "metadata": {},
   "outputs": [],
   "source": [
    "from sklearn.preprocessing import StandardScaler\n",
    "\n",
    "scaler = StandardScaler()\n",
    "X_train_scaled = scaler.fit_transform(X_train)\n",
    "X_test_scaled = scaler.transform(X_test)\n"
   ]
  },
  {
   "cell_type": "code",
   "execution_count": 111,
   "id": "e1d5a0fa-26cc-44fb-937f-b4e9e5983b37",
   "metadata": {
    "jupyter": {
     "source_hidden": true
    }
   },
   "outputs": [
    {
     "name": "stdout",
     "output_type": "stream",
     "text": [
      "Mean Absolute Error (After Scaling): 1025821.40\n",
      "R² Score (After Scaling): 0.93\n"
     ]
    }
   ],
   "source": [
    "# Train the model again with scaled data\n",
    "model.fit(X_train_scaled, y_train)\n",
    "\n",
    "# Make predictions\n",
    "y_pred_scaled = model.predict(X_test_scaled)\n",
    "\n",
    "# Evaluate performance\n",
    "from sklearn.metrics import mean_absolute_error, r2_score\n",
    "\n",
    "mae_scaled = mean_absolute_error(y_test, y_pred_scaled)\n",
    "r2_scaled = r2_score(y_test, y_pred_scaled)\n",
    "\n",
    "print(f\"Mean Absolute Error (After Scaling): {mae_scaled:.2f}\")\n",
    "print(f\"R² Score (After Scaling): {r2_scaled:.2f}\")\n"
   ]
  },
  {
   "cell_type": "markdown",
   "id": "cbdcb07d-2e37-4aa3-8320-4ccd600f0be2",
   "metadata": {},
   "source": [
    "# 🔹 Save the Trained Model"
   ]
  },
  {
   "cell_type": "code",
   "execution_count": 114,
   "id": "fd762a18-326d-4407-a693-24b59f110772",
   "metadata": {},
   "outputs": [
    {
     "data": {
      "text/plain": [
       "['scaler.pkl']"
      ]
     },
     "execution_count": 114,
     "metadata": {},
     "output_type": "execute_result"
    }
   ],
   "source": [
    "import joblib\n",
    "\n",
    "# Save the trained model\n",
    "joblib.dump(model, \"house_price_model.pkl\")\n",
    "\n",
    "# Save the scaler too (if used)\n",
    "joblib.dump(scaler, \"scaler.pkl\")\n"
   ]
  },
  {
   "cell_type": "markdown",
   "id": "1d0aea13-8c18-46d5-98d7-32a056fc40ff",
   "metadata": {},
   "source": [
    "# 🔹 Create a Python API (Flask or FastAPI)"
   ]
  },
  {
   "cell_type": "code",
   "execution_count": 117,
   "id": "9446ea80-1cd3-4afa-b2a8-f3ba222d462f",
   "metadata": {
    "collapsed": true,
    "jupyter": {
     "outputs_hidden": true
    },
    "scrolled": true
   },
   "outputs": [
    {
     "name": "stdout",
     "output_type": "stream",
     "text": [
      "Requirement already satisfied: flask in /opt/anaconda3/lib/python3.12/site-packages (3.0.3)\n",
      "Requirement already satisfied: joblib in /opt/anaconda3/lib/python3.12/site-packages (1.4.2)\n",
      "Requirement already satisfied: pandas in /opt/anaconda3/lib/python3.12/site-packages (2.2.2)\n",
      "Requirement already satisfied: numpy in /opt/anaconda3/lib/python3.12/site-packages (1.26.4)\n",
      "Requirement already satisfied: Werkzeug>=3.0.0 in /opt/anaconda3/lib/python3.12/site-packages (from flask) (3.0.3)\n",
      "Requirement already satisfied: Jinja2>=3.1.2 in /opt/anaconda3/lib/python3.12/site-packages (from flask) (3.1.4)\n",
      "Requirement already satisfied: itsdangerous>=2.1.2 in /opt/anaconda3/lib/python3.12/site-packages (from flask) (2.2.0)\n",
      "Requirement already satisfied: click>=8.1.3 in /opt/anaconda3/lib/python3.12/site-packages (from flask) (8.1.7)\n",
      "Requirement already satisfied: blinker>=1.6.2 in /opt/anaconda3/lib/python3.12/site-packages (from flask) (1.6.2)\n",
      "Requirement already satisfied: python-dateutil>=2.8.2 in /opt/anaconda3/lib/python3.12/site-packages (from pandas) (2.9.0.post0)\n",
      "Requirement already satisfied: pytz>=2020.1 in /opt/anaconda3/lib/python3.12/site-packages (from pandas) (2024.1)\n",
      "Requirement already satisfied: tzdata>=2022.7 in /opt/anaconda3/lib/python3.12/site-packages (from pandas) (2023.3)\n",
      "Requirement already satisfied: MarkupSafe>=2.0 in /opt/anaconda3/lib/python3.12/site-packages (from Jinja2>=3.1.2->flask) (2.1.3)\n",
      "Requirement already satisfied: six>=1.5 in /opt/anaconda3/lib/python3.12/site-packages (from python-dateutil>=2.8.2->pandas) (1.16.0)\n",
      "Note: you may need to restart the kernel to use updated packages.\n"
     ]
    }
   ],
   "source": [
    "pip install flask joblib pandas numpy\n"
   ]
  },
  {
   "cell_type": "code",
   "execution_count": 137,
   "id": "dcb642ec-30dd-44e7-80ea-7181dd81f463",
   "metadata": {},
   "outputs": [],
   "source": [
    "X = data[[\"area\", \"latitude\", \"longitude\", \"Bedrooms\", \"Bathrooms\", \"Status\", \"neworold\", \"Price_sqft\", \"type_of_building_Individual House\"]]\n",
    "y = data[\"price\"]\n"
   ]
  },
  {
   "cell_type": "code",
   "execution_count": 143,
   "id": "0bf9cce7-d334-4aec-99b4-43fd6d505a5b",
   "metadata": {},
   "outputs": [
    {
     "data": {
      "text/html": [
       "<div>\n",
       "<style scoped>\n",
       "    .dataframe tbody tr th:only-of-type {\n",
       "        vertical-align: middle;\n",
       "    }\n",
       "\n",
       "    .dataframe tbody tr th {\n",
       "        vertical-align: top;\n",
       "    }\n",
       "\n",
       "    .dataframe thead th {\n",
       "        text-align: right;\n",
       "    }\n",
       "</style>\n",
       "<table border=\"1\" class=\"dataframe\">\n",
       "  <thead>\n",
       "    <tr style=\"text-align: right;\">\n",
       "      <th></th>\n",
       "      <th>area</th>\n",
       "      <th>latitude</th>\n",
       "      <th>longitude</th>\n",
       "      <th>Bedrooms</th>\n",
       "      <th>Bathrooms</th>\n",
       "      <th>Status</th>\n",
       "      <th>neworold</th>\n",
       "      <th>Price_sqft</th>\n",
       "      <th>type_of_building_Individual House</th>\n",
       "    </tr>\n",
       "  </thead>\n",
       "  <tbody>\n",
       "    <tr>\n",
       "      <th>0</th>\n",
       "      <td>1350.0</td>\n",
       "      <td>28.608850</td>\n",
       "      <td>77.460560</td>\n",
       "      <td>3.0</td>\n",
       "      <td>3.0</td>\n",
       "      <td>1</td>\n",
       "      <td>0</td>\n",
       "      <td>4148.148148</td>\n",
       "      <td>0</td>\n",
       "    </tr>\n",
       "    <tr>\n",
       "      <th>1</th>\n",
       "      <td>1490.0</td>\n",
       "      <td>28.374236</td>\n",
       "      <td>76.952416</td>\n",
       "      <td>3.0</td>\n",
       "      <td>3.0</td>\n",
       "      <td>0</td>\n",
       "      <td>0</td>\n",
       "      <td>5906.040268</td>\n",
       "      <td>0</td>\n",
       "    </tr>\n",
       "    <tr>\n",
       "      <th>2</th>\n",
       "      <td>2385.0</td>\n",
       "      <td>28.645769</td>\n",
       "      <td>77.385110</td>\n",
       "      <td>4.0</td>\n",
       "      <td>5.0</td>\n",
       "      <td>0</td>\n",
       "      <td>0</td>\n",
       "      <td>6918.238994</td>\n",
       "      <td>0</td>\n",
       "    </tr>\n",
       "    <tr>\n",
       "      <th>3</th>\n",
       "      <td>1050.0</td>\n",
       "      <td>28.566914</td>\n",
       "      <td>77.436434</td>\n",
       "      <td>2.0</td>\n",
       "      <td>2.0</td>\n",
       "      <td>0</td>\n",
       "      <td>0</td>\n",
       "      <td>3628.571429</td>\n",
       "      <td>0</td>\n",
       "    </tr>\n",
       "    <tr>\n",
       "      <th>4</th>\n",
       "      <td>1350.0</td>\n",
       "      <td>28.520732</td>\n",
       "      <td>77.356491</td>\n",
       "      <td>2.0</td>\n",
       "      <td>2.0</td>\n",
       "      <td>0</td>\n",
       "      <td>1</td>\n",
       "      <td>4592.592593</td>\n",
       "      <td>0</td>\n",
       "    </tr>\n",
       "    <tr>\n",
       "      <th>...</th>\n",
       "      <td>...</td>\n",
       "      <td>...</td>\n",
       "      <td>...</td>\n",
       "      <td>...</td>\n",
       "      <td>...</td>\n",
       "      <td>...</td>\n",
       "      <td>...</td>\n",
       "      <td>...</td>\n",
       "      <td>...</td>\n",
       "    </tr>\n",
       "    <tr>\n",
       "      <th>7733</th>\n",
       "      <td>1095.0</td>\n",
       "      <td>28.635272</td>\n",
       "      <td>77.370395</td>\n",
       "      <td>2.0</td>\n",
       "      <td>2.0</td>\n",
       "      <td>0</td>\n",
       "      <td>1</td>\n",
       "      <td>7214.611872</td>\n",
       "      <td>0</td>\n",
       "    </tr>\n",
       "    <tr>\n",
       "      <th>7734</th>\n",
       "      <td>1060.0</td>\n",
       "      <td>28.581431</td>\n",
       "      <td>77.452819</td>\n",
       "      <td>2.0</td>\n",
       "      <td>2.0</td>\n",
       "      <td>0</td>\n",
       "      <td>1</td>\n",
       "      <td>4254.716981</td>\n",
       "      <td>0</td>\n",
       "    </tr>\n",
       "    <tr>\n",
       "      <th>7735</th>\n",
       "      <td>1898.0</td>\n",
       "      <td>28.625850</td>\n",
       "      <td>77.435336</td>\n",
       "      <td>4.0</td>\n",
       "      <td>3.0</td>\n",
       "      <td>0</td>\n",
       "      <td>1</td>\n",
       "      <td>3688.092729</td>\n",
       "      <td>0</td>\n",
       "    </tr>\n",
       "    <tr>\n",
       "      <th>7736</th>\n",
       "      <td>1400.0</td>\n",
       "      <td>28.701622</td>\n",
       "      <td>77.430153</td>\n",
       "      <td>3.0</td>\n",
       "      <td>3.0</td>\n",
       "      <td>0</td>\n",
       "      <td>1</td>\n",
       "      <td>4642.857143</td>\n",
       "      <td>0</td>\n",
       "    </tr>\n",
       "    <tr>\n",
       "      <th>7737</th>\n",
       "      <td>1750.0</td>\n",
       "      <td>28.693590</td>\n",
       "      <td>77.344376</td>\n",
       "      <td>3.0</td>\n",
       "      <td>2.0</td>\n",
       "      <td>0</td>\n",
       "      <td>0</td>\n",
       "      <td>3714.285714</td>\n",
       "      <td>0</td>\n",
       "    </tr>\n",
       "  </tbody>\n",
       "</table>\n",
       "<p>7689 rows × 9 columns</p>\n",
       "</div>"
      ],
      "text/plain": [
       "        area   latitude  longitude  Bedrooms  Bathrooms  Status  neworold  \\\n",
       "0     1350.0  28.608850  77.460560       3.0        3.0       1         0   \n",
       "1     1490.0  28.374236  76.952416       3.0        3.0       0         0   \n",
       "2     2385.0  28.645769  77.385110       4.0        5.0       0         0   \n",
       "3     1050.0  28.566914  77.436434       2.0        2.0       0         0   \n",
       "4     1350.0  28.520732  77.356491       2.0        2.0       0         1   \n",
       "...      ...        ...        ...       ...        ...     ...       ...   \n",
       "7733  1095.0  28.635272  77.370395       2.0        2.0       0         1   \n",
       "7734  1060.0  28.581431  77.452819       2.0        2.0       0         1   \n",
       "7735  1898.0  28.625850  77.435336       4.0        3.0       0         1   \n",
       "7736  1400.0  28.701622  77.430153       3.0        3.0       0         1   \n",
       "7737  1750.0  28.693590  77.344376       3.0        2.0       0         0   \n",
       "\n",
       "       Price_sqft  type_of_building_Individual House  \n",
       "0     4148.148148                                  0  \n",
       "1     5906.040268                                  0  \n",
       "2     6918.238994                                  0  \n",
       "3     3628.571429                                  0  \n",
       "4     4592.592593                                  0  \n",
       "...           ...                                ...  \n",
       "7733  7214.611872                                  0  \n",
       "7734  4254.716981                                  0  \n",
       "7735  3688.092729                                  0  \n",
       "7736  4642.857143                                  0  \n",
       "7737  3714.285714                                  0  \n",
       "\n",
       "[7689 rows x 9 columns]"
      ]
     },
     "execution_count": 143,
     "metadata": {},
     "output_type": "execute_result"
    }
   ],
   "source": [
    "X"
   ]
  },
  {
   "cell_type": "code",
   "execution_count": null,
   "id": "fec78e77-0a4c-44a0-b376-f9a308b6e4f2",
   "metadata": {},
   "outputs": [],
   "source": []
  }
 ],
 "metadata": {
  "kernelspec": {
   "display_name": "Python [conda env:base] *",
   "language": "python",
   "name": "conda-base-py"
  },
  "language_info": {
   "codemirror_mode": {
    "name": "ipython",
    "version": 3
   },
   "file_extension": ".py",
   "mimetype": "text/x-python",
   "name": "python",
   "nbconvert_exporter": "python",
   "pygments_lexer": "ipython3",
   "version": "3.12.7"
  }
 },
 "nbformat": 4,
 "nbformat_minor": 5
}
